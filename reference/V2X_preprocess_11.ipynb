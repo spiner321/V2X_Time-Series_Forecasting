{
 "cells": [
  {
   "attachments": {},
   "cell_type": "markdown",
   "metadata": {},
   "source": [
    "# V2X 데이터 정보"
   ]
  },
  {
   "cell_type": "code",
   "execution_count": 2,
   "metadata": {},
   "outputs": [],
   "source": [
    "import numpy as np\n",
    "import cv2\n",
    "import torch\n",
    "import pandas as pd\n",
    "import re\n",
    "import pickle as pkl\n",
    "import json\n",
    "import glob\n",
    "import shutil\n",
    "import os\n",
    "import json\n",
    "import pathlib as pl\n",
    "from typing import List, Tuple, Dict, Union, Optional\n",
    "from tqdm import trange, tqdm\n",
    "from glob import glob\n",
    "from collections import Counter\n",
    "from sklearn.model_selection import train_test_split\n",
    "\n",
    "from modules.preprocessing import V2XPreprocessing\n",
    "from modules.v2x import V2XData,V2XDataLabeled\n",
    "from tsai.all import *\n",
    "from tqdm import tqdm\n",
    "from modules.RunTSAI import RunTSAI\n",
    "from sklearn.utils import shuffle\n",
    "\n",
    "data_path_8 = \"/data/NIA50/50-1/data/v2xfinal/8월\"\n",
    "data_path_8s = \"/data/NIA50/50-1/data/v2xfinal/8월s\"\n",
    "data_path_10 = \"/data/NIA50/50-1/data/v2xfinal/9월\"\n",
    "data_path_10 = \"/data/NIA50/50-1/data/v2xfinal/10월\"\n",
    "data_path_11 = \"/data/NIA50/50-1/data/v2xfinal/11월\""
   ]
  },
  {
   "attachments": {},
   "cell_type": "markdown",
   "metadata": {},
   "source": [
    "## CSV, JSON 파일 경로 리스트 만들기\n",
    "- CSV, JSON 파일을 한 경로에 담기\n",
    "  - 8월\n",
    "  -  ㄴ CSV\n",
    "  -  ㄴ JSON\n",
    "  - 9월\n",
    "  -  ㄴ CSV\n",
    "  -  ㄴ JSON"
   ]
  },
  {
   "cell_type": "code",
   "execution_count": 2,
   "metadata": {},
   "outputs": [
    {
     "name": "stdout",
     "output_type": "stream",
     "text": [
      "csv file count: 1350000, json file count: 1350000\n"
     ]
    }
   ],
   "source": [
    "# 11월csv파일과 json파일을 각각 리스트로 가져옴\n",
    "csv_files11, json_files11 = V2XPreprocessing.get_csv_data(data_path_11 + \"/CSV\"), \\\n",
    "                            V2XPreprocessing.get_json_data(data_path_11 + \"/JSON\")\n",
    "print(f\"csv file count: {len(csv_files11)}, json file count: {len(json_files11)}\")"
   ]
  },
  {
   "cell_type": "code",
   "execution_count": 3,
   "metadata": {},
   "outputs": [],
   "source": [
    "# csv파일과 json파일 리스트를 pickle로 저장\n",
    "with open(\"pickles/11월/CSV11.pkl\", \"wb\") as f:\n",
    "    pkl.dump(csv_files11, f)\n",
    "with open(\"pickles/11월/JSON11.pkl\", \"wb\") as f:\n",
    "    pkl.dump(json_files11, f)"
   ]
  },
  {
   "cell_type": "code",
   "execution_count": 3,
   "metadata": {},
   "outputs": [],
   "source": [
    "# csv파일과 json파일 각 리스트를 pickle로 가져옴\n",
    "with open(\"pickles/11월/CSV11.pkl\", \"rb\") as f:\n",
    "    csv_files11 = pkl.load(f)\n",
    "with open(\"pickles/11월/JSON11.pkl\", \"rb\") as f:\n",
    "    json_files11 = pkl.load(f)"
   ]
  },
  {
   "cell_type": "code",
   "execution_count": 5,
   "metadata": {},
   "outputs": [
    {
     "name": "stderr",
     "output_type": "stream",
     "text": [
      "Reading csv files: 100%|██████████| 450000/450000 [21:10<00:00, 354.06it/s] \n"
     ]
    }
   ],
   "source": [
    "# CSV파일 concat, pickle로 저장\n",
    "df11csv = [pd.read_csv(f) for f in tqdm(csv_files11, desc=\"Reading csv files\")]\n",
    "df11csv = pd.concat(df11csv, ignore_index=True)\n",
    "with open(\"pickles/11월/df11csv.pkl\", \"wb\") as f:\n",
    "    pkl.dump(df11csv, f)"
   ]
  },
  {
   "cell_type": "code",
   "execution_count": 2,
   "metadata": {},
   "outputs": [],
   "source": [
    "# CSV파일 concat pickle로 가져옴\n",
    "with open(\"pickles/11월/df11csv.pkl\", \"rb\") as f:\n",
    "    df11csv = pkl.load(f)"
   ]
  },
  {
   "cell_type": "code",
   "execution_count": 3,
   "metadata": {},
   "outputs": [
    {
     "data": {
      "text/html": [
       "<div>\n",
       "<style scoped>\n",
       "    .dataframe tbody tr th:only-of-type {\n",
       "        vertical-align: middle;\n",
       "    }\n",
       "\n",
       "    .dataframe tbody tr th {\n",
       "        vertical-align: top;\n",
       "    }\n",
       "\n",
       "    .dataframe thead th {\n",
       "        text-align: right;\n",
       "    }\n",
       "</style>\n",
       "<table border=\"1\" class=\"dataframe\">\n",
       "  <thead>\n",
       "    <tr style=\"text-align: right;\">\n",
       "      <th></th>\n",
       "      <th>ISSUE_DATE</th>\n",
       "      <th>VEHICLE_ID</th>\n",
       "      <th>VEHICLE_CLASS</th>\n",
       "      <th>LONGITUDE</th>\n",
       "      <th>LATITUDE</th>\n",
       "      <th>HEADING</th>\n",
       "      <th>SPEED</th>\n",
       "      <th>BRAKE_STATUS</th>\n",
       "      <th>ACC_SEC</th>\n",
       "      <th>VEHICLE_TYPE</th>\n",
       "    </tr>\n",
       "  </thead>\n",
       "  <tbody>\n",
       "    <tr>\n",
       "      <th>0</th>\n",
       "      <td>20221101160930</td>\n",
       "      <td>FFE809A7</td>\n",
       "      <td>9228</td>\n",
       "      <td>126.879745</td>\n",
       "      <td>35.107718</td>\n",
       "      <td>315</td>\n",
       "      <td>0</td>\n",
       "      <td>80</td>\n",
       "      <td>0</td>\n",
       "      <td>bus</td>\n",
       "    </tr>\n",
       "    <tr>\n",
       "      <th>1</th>\n",
       "      <td>20221101160931</td>\n",
       "      <td>FFE809A7</td>\n",
       "      <td>9228</td>\n",
       "      <td>126.879745</td>\n",
       "      <td>35.107718</td>\n",
       "      <td>315</td>\n",
       "      <td>0</td>\n",
       "      <td>80</td>\n",
       "      <td>0</td>\n",
       "      <td>bus</td>\n",
       "    </tr>\n",
       "    <tr>\n",
       "      <th>2</th>\n",
       "      <td>20221101160932</td>\n",
       "      <td>FFE809A7</td>\n",
       "      <td>9228</td>\n",
       "      <td>126.879745</td>\n",
       "      <td>35.107718</td>\n",
       "      <td>315</td>\n",
       "      <td>0</td>\n",
       "      <td>80</td>\n",
       "      <td>0</td>\n",
       "      <td>bus</td>\n",
       "    </tr>\n",
       "    <tr>\n",
       "      <th>3</th>\n",
       "      <td>20221101160933</td>\n",
       "      <td>FFE809A7</td>\n",
       "      <td>9228</td>\n",
       "      <td>126.879745</td>\n",
       "      <td>35.107718</td>\n",
       "      <td>315</td>\n",
       "      <td>0</td>\n",
       "      <td>80</td>\n",
       "      <td>0</td>\n",
       "      <td>bus</td>\n",
       "    </tr>\n",
       "    <tr>\n",
       "      <th>4</th>\n",
       "      <td>20221101160934</td>\n",
       "      <td>FFE809A7</td>\n",
       "      <td>9228</td>\n",
       "      <td>126.879745</td>\n",
       "      <td>35.107718</td>\n",
       "      <td>315</td>\n",
       "      <td>0</td>\n",
       "      <td>80</td>\n",
       "      <td>0</td>\n",
       "      <td>bus</td>\n",
       "    </tr>\n",
       "  </tbody>\n",
       "</table>\n",
       "</div>"
      ],
      "text/plain": [
       "       ISSUE_DATE VEHICLE_ID VEHICLE_CLASS   LONGITUDE   LATITUDE HEADING  \\\n",
       "0  20221101160930   FFE809A7          9228  126.879745  35.107718     315   \n",
       "1  20221101160931   FFE809A7          9228  126.879745  35.107718     315   \n",
       "2  20221101160932   FFE809A7          9228  126.879745  35.107718     315   \n",
       "3  20221101160933   FFE809A7          9228  126.879745  35.107718     315   \n",
       "4  20221101160934   FFE809A7          9228  126.879745  35.107718     315   \n",
       "\n",
       "  SPEED BRAKE_STATUS ACC_SEC VEHICLE_TYPE  \n",
       "0     0           80       0          bus  \n",
       "1     0           80       0          bus  \n",
       "2     0           80       0          bus  \n",
       "3     0           80       0          bus  \n",
       "4     0           80       0          bus  "
      ]
     },
     "execution_count": 3,
     "metadata": {},
     "output_type": "execute_result"
    }
   ],
   "source": [
    "df11csv.head()"
   ]
  },
  {
   "cell_type": "code",
   "execution_count": 4,
   "metadata": {},
   "outputs": [
    {
     "data": {
      "text/plain": [
       "ISSUE_DATE       0\n",
       "VEHICLE_ID       0\n",
       "VEHICLE_CLASS    0\n",
       "LONGITUDE        0\n",
       "LATITUDE         0\n",
       "HEADING          0\n",
       "SPEED            0\n",
       "BRAKE_STATUS     0\n",
       "ACC_SEC          0\n",
       "VEHICLE_TYPE     0\n",
       "dtype: int64"
      ]
     },
     "execution_count": 4,
     "metadata": {},
     "output_type": "execute_result"
    }
   ],
   "source": [
    "# NaN값 제거 후 NaN값이 있는지 확인\n",
    "df11csv = df11csv.dropna()\n",
    "# counts rows if there's NaN value\n",
    "df11csv.isna().sum()"
   ]
  },
  {
   "cell_type": "code",
   "execution_count": 5,
   "metadata": {},
   "outputs": [
    {
     "data": {
      "text/plain": [
       "(4500001, 10)"
      ]
     },
     "execution_count": 5,
     "metadata": {},
     "output_type": "execute_result"
    }
   ],
   "source": [
    "df11csv.shape"
   ]
  },
  {
   "cell_type": "code",
   "execution_count": 8,
   "metadata": {},
   "outputs": [
    {
     "data": {
      "text/html": [
       "<div>\n",
       "<style scoped>\n",
       "    .dataframe tbody tr th:only-of-type {\n",
       "        vertical-align: middle;\n",
       "    }\n",
       "\n",
       "    .dataframe tbody tr th {\n",
       "        vertical-align: top;\n",
       "    }\n",
       "\n",
       "    .dataframe thead th {\n",
       "        text-align: right;\n",
       "    }\n",
       "</style>\n",
       "<table border=\"1\" class=\"dataframe\">\n",
       "  <thead>\n",
       "    <tr style=\"text-align: right;\">\n",
       "      <th></th>\n",
       "      <th>VEHICLE_ID</th>\n",
       "      <th>VEHICLE_CLASS</th>\n",
       "      <th>LONGITUDE</th>\n",
       "      <th>LATITUDE</th>\n",
       "      <th>HEADING</th>\n",
       "      <th>SPEED</th>\n",
       "      <th>BRAKE_STATUS</th>\n",
       "      <th>ACC_SEC</th>\n",
       "      <th>VEHICLE_TYPE</th>\n",
       "    </tr>\n",
       "  </thead>\n",
       "  <tbody>\n",
       "    <tr>\n",
       "      <th>0</th>\n",
       "      <td>FFE809A7</td>\n",
       "      <td>9228</td>\n",
       "      <td>126.879745</td>\n",
       "      <td>35.107718</td>\n",
       "      <td>315</td>\n",
       "      <td>0</td>\n",
       "      <td>80</td>\n",
       "      <td>0</td>\n",
       "      <td>bus</td>\n",
       "    </tr>\n",
       "    <tr>\n",
       "      <th>1</th>\n",
       "      <td>FFE809A7</td>\n",
       "      <td>9228</td>\n",
       "      <td>126.879745</td>\n",
       "      <td>35.107718</td>\n",
       "      <td>315</td>\n",
       "      <td>0</td>\n",
       "      <td>80</td>\n",
       "      <td>0</td>\n",
       "      <td>bus</td>\n",
       "    </tr>\n",
       "    <tr>\n",
       "      <th>2</th>\n",
       "      <td>FFE809A7</td>\n",
       "      <td>9228</td>\n",
       "      <td>126.879745</td>\n",
       "      <td>35.107718</td>\n",
       "      <td>315</td>\n",
       "      <td>0</td>\n",
       "      <td>80</td>\n",
       "      <td>0</td>\n",
       "      <td>bus</td>\n",
       "    </tr>\n",
       "    <tr>\n",
       "      <th>3</th>\n",
       "      <td>FFE809A7</td>\n",
       "      <td>9228</td>\n",
       "      <td>126.879745</td>\n",
       "      <td>35.107718</td>\n",
       "      <td>315</td>\n",
       "      <td>0</td>\n",
       "      <td>80</td>\n",
       "      <td>0</td>\n",
       "      <td>bus</td>\n",
       "    </tr>\n",
       "    <tr>\n",
       "      <th>4</th>\n",
       "      <td>FFE809A7</td>\n",
       "      <td>9228</td>\n",
       "      <td>126.879745</td>\n",
       "      <td>35.107718</td>\n",
       "      <td>315</td>\n",
       "      <td>0</td>\n",
       "      <td>80</td>\n",
       "      <td>0</td>\n",
       "      <td>bus</td>\n",
       "    </tr>\n",
       "    <tr>\n",
       "      <th>...</th>\n",
       "      <td>...</td>\n",
       "      <td>...</td>\n",
       "      <td>...</td>\n",
       "      <td>...</td>\n",
       "      <td>...</td>\n",
       "      <td>...</td>\n",
       "      <td>...</td>\n",
       "      <td>...</td>\n",
       "      <td>...</td>\n",
       "    </tr>\n",
       "    <tr>\n",
       "      <th>4500421</th>\n",
       "      <td>FFE81227</td>\n",
       "      <td>9228</td>\n",
       "      <td>126.921205</td>\n",
       "      <td>35.143929</td>\n",
       "      <td>20</td>\n",
       "      <td>24</td>\n",
       "      <td>78</td>\n",
       "      <td>-139</td>\n",
       "      <td>bus</td>\n",
       "    </tr>\n",
       "    <tr>\n",
       "      <th>4500422</th>\n",
       "      <td>FFE81227</td>\n",
       "      <td>9228</td>\n",
       "      <td>126.921229</td>\n",
       "      <td>35.143985</td>\n",
       "      <td>20</td>\n",
       "      <td>21</td>\n",
       "      <td>78</td>\n",
       "      <td>-111</td>\n",
       "      <td>bus</td>\n",
       "    </tr>\n",
       "    <tr>\n",
       "      <th>4500423</th>\n",
       "      <td>FFE81227</td>\n",
       "      <td>9228</td>\n",
       "      <td>126.921246</td>\n",
       "      <td>35.144026</td>\n",
       "      <td>20</td>\n",
       "      <td>13</td>\n",
       "      <td>78</td>\n",
       "      <td>-222</td>\n",
       "      <td>bus</td>\n",
       "    </tr>\n",
       "    <tr>\n",
       "      <th>4500424</th>\n",
       "      <td>FFE81227</td>\n",
       "      <td>9228</td>\n",
       "      <td>126.921256</td>\n",
       "      <td>35.14405</td>\n",
       "      <td>20</td>\n",
       "      <td>6</td>\n",
       "      <td>78</td>\n",
       "      <td>-167</td>\n",
       "      <td>bus</td>\n",
       "    </tr>\n",
       "    <tr>\n",
       "      <th>4500425</th>\n",
       "      <td>FFE81227</td>\n",
       "      <td>9228</td>\n",
       "      <td>126.92126</td>\n",
       "      <td>35.144058</td>\n",
       "      <td>21</td>\n",
       "      <td>1</td>\n",
       "      <td>78</td>\n",
       "      <td>-139</td>\n",
       "      <td>bus</td>\n",
       "    </tr>\n",
       "  </tbody>\n",
       "</table>\n",
       "<p>4500001 rows × 9 columns</p>\n",
       "</div>"
      ],
      "text/plain": [
       "        VEHICLE_ID VEHICLE_CLASS   LONGITUDE   LATITUDE HEADING SPEED  \\\n",
       "0         FFE809A7          9228  126.879745  35.107718     315     0   \n",
       "1         FFE809A7          9228  126.879745  35.107718     315     0   \n",
       "2         FFE809A7          9228  126.879745  35.107718     315     0   \n",
       "3         FFE809A7          9228  126.879745  35.107718     315     0   \n",
       "4         FFE809A7          9228  126.879745  35.107718     315     0   \n",
       "...            ...           ...         ...        ...     ...   ...   \n",
       "4500421   FFE81227          9228  126.921205  35.143929      20    24   \n",
       "4500422   FFE81227          9228  126.921229  35.143985      20    21   \n",
       "4500423   FFE81227          9228  126.921246  35.144026      20    13   \n",
       "4500424   FFE81227          9228  126.921256   35.14405      20     6   \n",
       "4500425   FFE81227          9228   126.92126  35.144058      21     1   \n",
       "\n",
       "        BRAKE_STATUS ACC_SEC VEHICLE_TYPE  \n",
       "0                 80       0          bus  \n",
       "1                 80       0          bus  \n",
       "2                 80       0          bus  \n",
       "3                 80       0          bus  \n",
       "4                 80       0          bus  \n",
       "...              ...     ...          ...  \n",
       "4500421           78    -139          bus  \n",
       "4500422           78    -111          bus  \n",
       "4500423           78    -222          bus  \n",
       "4500424           78    -167          bus  \n",
       "4500425           78    -139          bus  \n",
       "\n",
       "[4500001 rows x 9 columns]"
      ]
     },
     "execution_count": 8,
     "metadata": {},
     "output_type": "execute_result"
    }
   ],
   "source": [
    "df11csv"
   ]
  },
  {
   "cell_type": "code",
   "execution_count": 10,
   "metadata": {},
   "outputs": [
    {
     "name": "stdout",
     "output_type": "stream",
     "text": [
      "VEHICLE_CLASS: 0\n",
      "LONGITUDE: 0\n",
      "LATITUDE: 0\n",
      "HEADING: 0\n",
      "SPEED: 0\n",
      "BRAKE_STATUS: 0\n",
      "ACC_SEC: 0\n"
     ]
    }
   ],
   "source": [
    "# int or float type이 아닌 값이 있는지 확인\n",
    "for col in df11csv.columns:\n",
    "    if col in [\"ISSUE_DATE\"]:\n",
    "        df11csv.drop(col, axis=1, inplace=True)\n",
    "        continue\n",
    "    if col in [\"VEHICLE_ID\", \"VEHICLE_TYPE\"]:\n",
    "        continue\n",
    "    # print if value is not float or int\n",
    "    print(f\"{col}: {df11csv[col].apply(lambda x: type(x) not in [float, int]).sum()}\")"
   ]
  },
  {
   "cell_type": "code",
   "execution_count": 9,
   "metadata": {},
   "outputs": [],
   "source": [
    "# exclude [\"ISSUE_DATE\"] column, values to int on [\"VEHICLE_CLASS\", \"HEADING\"], str on [\"VEHICLE_ID\", \"VEHICLE_TYPE\"], float on others\n",
    "\n",
    "for col in df11csv.columns:\n",
    "    if col in [\"VEHICLE_CLASS\", \"HEADING\"]:\n",
    "        df11csv[col] = df11csv[col].astype(int)\n",
    "    elif col in [\"VEHICLE_ID\", \"VEHICLE_TYPE\"]:\n",
    "        df11csv[col] = df11csv[col].astype(str)\n",
    "    else:\n",
    "        df11csv[col] = df11csv[col].astype(float)"
   ]
  },
  {
   "cell_type": "code",
   "execution_count": 11,
   "metadata": {},
   "outputs": [
    {
     "name": "stdout",
     "output_type": "stream",
     "text": [
      "VEHICLE_ID: FFE80C29    7800\n",
      "FFE80D78    7800\n",
      "FFE809D0    7600\n",
      "FFE80A6F    7600\n",
      "FFE80D0C    7600\n",
      "            ... \n",
      "FFE8111E     200\n",
      "FFE8112B     200\n",
      "FFE80EA3     200\n",
      "FFE80ED3     200\n",
      "FFE80E3A     200\n",
      "Name: VEHICLE_ID, Length: 1559, dtype: int64\n",
      "VEHICLE_ID unique: (1559,)\n",
      "\n",
      "VEHICLE_CLASS: 9228    3458293\n",
      "9220     934908\n",
      "9741      40000\n",
      "9230      30400\n",
      "9736      27400\n",
      "9240       6200\n",
      "9734       2800\n",
      "Name: VEHICLE_CLASS, dtype: int64\n",
      "VEHICLE_CLASS unique: (7,)\n",
      "\n",
      "VEHICLE_TYPE: bus        3457973\n",
      "car         934850\n",
      "special     106787\n",
      "none           391\n",
      "Name: VEHICLE_TYPE, dtype: int64\n",
      "VEHICLE_TYPE unique: (4,)\n",
      "\n"
     ]
    }
   ],
   "source": [
    "# value counts of VEHICLE_ID VEHICLE_CLASS VEHICLE_TYPE\n",
    "for col in df11csv.columns:\n",
    "    if col in [\"VEHICLE_ID\", \"VEHICLE_CLASS\", \"VEHICLE_TYPE\"]:\n",
    "        print(f\"{col}: {df11csv[col].value_counts()}\")\n",
    "        print(f\"{col} unique: {df11csv[col].unique().shape}\", end=\"\\n\\n\")"
   ]
  },
  {
   "cell_type": "code",
   "execution_count": 12,
   "metadata": {},
   "outputs": [
    {
     "name": "stdout",
     "output_type": "stream",
     "text": [
      "[  10   10   10 ... 1558 1558 1558]\n",
      "[1 1 1 ... 1 1 1]\n",
      "[0 0 0 ... 0 0 0]\n"
     ]
    }
   ],
   "source": [
    "# categorize [\"VEHICLE_ID\", \"VEHICLE_CLASS\", \"VEHICLE_TYPE\"] columns\n",
    "from sklearn.preprocessing import LabelEncoder\n",
    "\n",
    "for col in df11csv.columns:\n",
    "    if col in [\"VEHICLE_ID\", \"VEHICLE_CLASS\", \"VEHICLE_TYPE\"]:\n",
    "        encoder = LabelEncoder()\n",
    "        encoder.fit(df11csv[col])\n",
    "        categorized_array = encoder.transform(df11csv[col])\n",
    "        print(categorized_array)\n",
    "        df11csv[col] = categorized_array"
   ]
  },
  {
   "cell_type": "code",
   "execution_count": 14,
   "metadata": {},
   "outputs": [
    {
     "data": {
      "text/html": [
       "<div>\n",
       "<style scoped>\n",
       "    .dataframe tbody tr th:only-of-type {\n",
       "        vertical-align: middle;\n",
       "    }\n",
       "\n",
       "    .dataframe tbody tr th {\n",
       "        vertical-align: top;\n",
       "    }\n",
       "\n",
       "    .dataframe thead th {\n",
       "        text-align: right;\n",
       "    }\n",
       "</style>\n",
       "<table border=\"1\" class=\"dataframe\">\n",
       "  <thead>\n",
       "    <tr style=\"text-align: right;\">\n",
       "      <th></th>\n",
       "      <th>VEHICLE_ID</th>\n",
       "      <th>VEHICLE_CLASS</th>\n",
       "      <th>LONGITUDE</th>\n",
       "      <th>LATITUDE</th>\n",
       "      <th>HEADING</th>\n",
       "      <th>SPEED</th>\n",
       "      <th>BRAKE_STATUS</th>\n",
       "      <th>ACC_SEC</th>\n",
       "      <th>VEHICLE_TYPE</th>\n",
       "    </tr>\n",
       "  </thead>\n",
       "  <tbody>\n",
       "    <tr>\n",
       "      <th>0</th>\n",
       "      <td>10</td>\n",
       "      <td>1</td>\n",
       "      <td>126.879745</td>\n",
       "      <td>35.107718</td>\n",
       "      <td>315</td>\n",
       "      <td>0.0</td>\n",
       "      <td>80.0</td>\n",
       "      <td>0.0</td>\n",
       "      <td>0</td>\n",
       "    </tr>\n",
       "    <tr>\n",
       "      <th>1</th>\n",
       "      <td>10</td>\n",
       "      <td>1</td>\n",
       "      <td>126.879745</td>\n",
       "      <td>35.107718</td>\n",
       "      <td>315</td>\n",
       "      <td>0.0</td>\n",
       "      <td>80.0</td>\n",
       "      <td>0.0</td>\n",
       "      <td>0</td>\n",
       "    </tr>\n",
       "    <tr>\n",
       "      <th>2</th>\n",
       "      <td>10</td>\n",
       "      <td>1</td>\n",
       "      <td>126.879745</td>\n",
       "      <td>35.107718</td>\n",
       "      <td>315</td>\n",
       "      <td>0.0</td>\n",
       "      <td>80.0</td>\n",
       "      <td>0.0</td>\n",
       "      <td>0</td>\n",
       "    </tr>\n",
       "    <tr>\n",
       "      <th>3</th>\n",
       "      <td>10</td>\n",
       "      <td>1</td>\n",
       "      <td>126.879745</td>\n",
       "      <td>35.107718</td>\n",
       "      <td>315</td>\n",
       "      <td>0.0</td>\n",
       "      <td>80.0</td>\n",
       "      <td>0.0</td>\n",
       "      <td>0</td>\n",
       "    </tr>\n",
       "    <tr>\n",
       "      <th>4</th>\n",
       "      <td>10</td>\n",
       "      <td>1</td>\n",
       "      <td>126.879745</td>\n",
       "      <td>35.107718</td>\n",
       "      <td>315</td>\n",
       "      <td>0.0</td>\n",
       "      <td>80.0</td>\n",
       "      <td>0.0</td>\n",
       "      <td>0</td>\n",
       "    </tr>\n",
       "    <tr>\n",
       "      <th>...</th>\n",
       "      <td>...</td>\n",
       "      <td>...</td>\n",
       "      <td>...</td>\n",
       "      <td>...</td>\n",
       "      <td>...</td>\n",
       "      <td>...</td>\n",
       "      <td>...</td>\n",
       "      <td>...</td>\n",
       "      <td>...</td>\n",
       "    </tr>\n",
       "    <tr>\n",
       "      <th>4499995</th>\n",
       "      <td>1558</td>\n",
       "      <td>1</td>\n",
       "      <td>126.921175</td>\n",
       "      <td>35.143863</td>\n",
       "      <td>20</td>\n",
       "      <td>31.0</td>\n",
       "      <td>78.0</td>\n",
       "      <td>-83.0</td>\n",
       "      <td>0</td>\n",
       "    </tr>\n",
       "    <tr>\n",
       "      <th>4499996</th>\n",
       "      <td>1558</td>\n",
       "      <td>1</td>\n",
       "      <td>126.921205</td>\n",
       "      <td>35.143929</td>\n",
       "      <td>20</td>\n",
       "      <td>24.0</td>\n",
       "      <td>78.0</td>\n",
       "      <td>-139.0</td>\n",
       "      <td>0</td>\n",
       "    </tr>\n",
       "    <tr>\n",
       "      <th>4499997</th>\n",
       "      <td>1558</td>\n",
       "      <td>1</td>\n",
       "      <td>126.921229</td>\n",
       "      <td>35.143985</td>\n",
       "      <td>20</td>\n",
       "      <td>21.0</td>\n",
       "      <td>78.0</td>\n",
       "      <td>-111.0</td>\n",
       "      <td>0</td>\n",
       "    </tr>\n",
       "    <tr>\n",
       "      <th>4499998</th>\n",
       "      <td>1558</td>\n",
       "      <td>1</td>\n",
       "      <td>126.921246</td>\n",
       "      <td>35.144026</td>\n",
       "      <td>20</td>\n",
       "      <td>13.0</td>\n",
       "      <td>78.0</td>\n",
       "      <td>-222.0</td>\n",
       "      <td>0</td>\n",
       "    </tr>\n",
       "    <tr>\n",
       "      <th>4499999</th>\n",
       "      <td>1558</td>\n",
       "      <td>1</td>\n",
       "      <td>126.921256</td>\n",
       "      <td>35.144050</td>\n",
       "      <td>20</td>\n",
       "      <td>6.0</td>\n",
       "      <td>78.0</td>\n",
       "      <td>-167.0</td>\n",
       "      <td>0</td>\n",
       "    </tr>\n",
       "  </tbody>\n",
       "</table>\n",
       "<p>4500000 rows × 9 columns</p>\n",
       "</div>"
      ],
      "text/plain": [
       "         VEHICLE_ID  VEHICLE_CLASS   LONGITUDE   LATITUDE  HEADING  SPEED  \\\n",
       "0                10              1  126.879745  35.107718      315    0.0   \n",
       "1                10              1  126.879745  35.107718      315    0.0   \n",
       "2                10              1  126.879745  35.107718      315    0.0   \n",
       "3                10              1  126.879745  35.107718      315    0.0   \n",
       "4                10              1  126.879745  35.107718      315    0.0   \n",
       "...             ...            ...         ...        ...      ...    ...   \n",
       "4499995        1558              1  126.921175  35.143863       20   31.0   \n",
       "4499996        1558              1  126.921205  35.143929       20   24.0   \n",
       "4499997        1558              1  126.921229  35.143985       20   21.0   \n",
       "4499998        1558              1  126.921246  35.144026       20   13.0   \n",
       "4499999        1558              1  126.921256  35.144050       20    6.0   \n",
       "\n",
       "         BRAKE_STATUS  ACC_SEC  VEHICLE_TYPE  \n",
       "0                80.0      0.0             0  \n",
       "1                80.0      0.0             0  \n",
       "2                80.0      0.0             0  \n",
       "3                80.0      0.0             0  \n",
       "4                80.0      0.0             0  \n",
       "...               ...      ...           ...  \n",
       "4499995          78.0    -83.0             0  \n",
       "4499996          78.0   -139.0             0  \n",
       "4499997          78.0   -111.0             0  \n",
       "4499998          78.0   -222.0             0  \n",
       "4499999          78.0   -167.0             0  \n",
       "\n",
       "[4500000 rows x 9 columns]"
      ]
     },
     "execution_count": 14,
     "metadata": {},
     "output_type": "execute_result"
    }
   ],
   "source": [
    "# index reset\n",
    "df11csv.reset_index(drop=True, inplace=True)\n",
    "\n",
    "# remove row 4500000\n",
    "df11csv.drop(4500000, axis=0, inplace=True)\n",
    "df11csv"
   ]
  },
  {
   "attachments": {},
   "cell_type": "markdown",
   "metadata": {},
   "source": [
    "# Standarization"
   ]
  },
  {
   "cell_type": "code",
   "execution_count": 15,
   "metadata": {},
   "outputs": [
    {
     "data": {
      "text/html": [
       "<div>\n",
       "<style scoped>\n",
       "    .dataframe tbody tr th:only-of-type {\n",
       "        vertical-align: middle;\n",
       "    }\n",
       "\n",
       "    .dataframe tbody tr th {\n",
       "        vertical-align: top;\n",
       "    }\n",
       "\n",
       "    .dataframe thead th {\n",
       "        text-align: right;\n",
       "    }\n",
       "</style>\n",
       "<table border=\"1\" class=\"dataframe\">\n",
       "  <thead>\n",
       "    <tr style=\"text-align: right;\">\n",
       "      <th></th>\n",
       "      <th>VEHICLE_ID</th>\n",
       "      <th>VEHICLE_CLASS</th>\n",
       "      <th>LONGITUDE</th>\n",
       "      <th>LATITUDE</th>\n",
       "      <th>HEADING</th>\n",
       "      <th>SPEED</th>\n",
       "      <th>BRAKE_STATUS</th>\n",
       "      <th>ACC_SEC</th>\n",
       "      <th>VEHICLE_TYPE</th>\n",
       "    </tr>\n",
       "  </thead>\n",
       "  <tbody>\n",
       "    <tr>\n",
       "      <th>0</th>\n",
       "      <td>-1.590894</td>\n",
       "      <td>0.175411</td>\n",
       "      <td>0.018140</td>\n",
       "      <td>-0.105334</td>\n",
       "      <td>1.355284</td>\n",
       "      <td>-0.810118</td>\n",
       "      <td>1.124432</td>\n",
       "      <td>-0.003161</td>\n",
       "      <td>-0.476041</td>\n",
       "    </tr>\n",
       "    <tr>\n",
       "      <th>1</th>\n",
       "      <td>-1.590894</td>\n",
       "      <td>0.175411</td>\n",
       "      <td>0.018140</td>\n",
       "      <td>-0.105334</td>\n",
       "      <td>1.355284</td>\n",
       "      <td>-0.810118</td>\n",
       "      <td>1.124432</td>\n",
       "      <td>-0.003161</td>\n",
       "      <td>-0.476041</td>\n",
       "    </tr>\n",
       "    <tr>\n",
       "      <th>2</th>\n",
       "      <td>-1.590894</td>\n",
       "      <td>0.175411</td>\n",
       "      <td>0.018140</td>\n",
       "      <td>-0.105335</td>\n",
       "      <td>1.355284</td>\n",
       "      <td>-0.810118</td>\n",
       "      <td>1.124432</td>\n",
       "      <td>-0.003161</td>\n",
       "      <td>-0.476041</td>\n",
       "    </tr>\n",
       "    <tr>\n",
       "      <th>3</th>\n",
       "      <td>-1.590894</td>\n",
       "      <td>0.175411</td>\n",
       "      <td>0.018140</td>\n",
       "      <td>-0.105335</td>\n",
       "      <td>1.355284</td>\n",
       "      <td>-0.810118</td>\n",
       "      <td>1.124432</td>\n",
       "      <td>-0.003161</td>\n",
       "      <td>-0.476041</td>\n",
       "    </tr>\n",
       "    <tr>\n",
       "      <th>4</th>\n",
       "      <td>-1.590894</td>\n",
       "      <td>0.175411</td>\n",
       "      <td>0.018140</td>\n",
       "      <td>-0.105335</td>\n",
       "      <td>1.355284</td>\n",
       "      <td>-0.810118</td>\n",
       "      <td>1.124432</td>\n",
       "      <td>-0.003161</td>\n",
       "      <td>-0.476041</td>\n",
       "    </tr>\n",
       "    <tr>\n",
       "      <th>...</th>\n",
       "      <td>...</td>\n",
       "      <td>...</td>\n",
       "      <td>...</td>\n",
       "      <td>...</td>\n",
       "      <td>...</td>\n",
       "      <td>...</td>\n",
       "      <td>...</td>\n",
       "      <td>...</td>\n",
       "      <td>...</td>\n",
       "    </tr>\n",
       "    <tr>\n",
       "      <th>4499995</th>\n",
       "      <td>2.064391</td>\n",
       "      <td>0.175411</td>\n",
       "      <td>0.042592</td>\n",
       "      <td>-0.028860</td>\n",
       "      <td>-1.337414</td>\n",
       "      <td>0.771787</td>\n",
       "      <td>1.073464</td>\n",
       "      <td>-1.645776</td>\n",
       "      <td>-0.476041</td>\n",
       "    </tr>\n",
       "    <tr>\n",
       "      <th>4499996</th>\n",
       "      <td>2.064391</td>\n",
       "      <td>0.175411</td>\n",
       "      <td>0.042610</td>\n",
       "      <td>-0.028720</td>\n",
       "      <td>-1.337414</td>\n",
       "      <td>0.414582</td>\n",
       "      <td>1.073464</td>\n",
       "      <td>-2.754047</td>\n",
       "      <td>-0.476041</td>\n",
       "    </tr>\n",
       "    <tr>\n",
       "      <th>4499997</th>\n",
       "      <td>2.064391</td>\n",
       "      <td>0.175411</td>\n",
       "      <td>0.042624</td>\n",
       "      <td>-0.028602</td>\n",
       "      <td>-1.337414</td>\n",
       "      <td>0.261495</td>\n",
       "      <td>1.073464</td>\n",
       "      <td>-2.199911</td>\n",
       "      <td>-0.476041</td>\n",
       "    </tr>\n",
       "    <tr>\n",
       "      <th>4499998</th>\n",
       "      <td>2.064391</td>\n",
       "      <td>0.175411</td>\n",
       "      <td>0.042635</td>\n",
       "      <td>-0.028516</td>\n",
       "      <td>-1.337414</td>\n",
       "      <td>-0.146739</td>\n",
       "      <td>1.073464</td>\n",
       "      <td>-4.396662</td>\n",
       "      <td>-0.476041</td>\n",
       "    </tr>\n",
       "    <tr>\n",
       "      <th>4499999</th>\n",
       "      <td>2.064391</td>\n",
       "      <td>0.175411</td>\n",
       "      <td>0.042641</td>\n",
       "      <td>-0.028464</td>\n",
       "      <td>-1.337414</td>\n",
       "      <td>-0.503943</td>\n",
       "      <td>1.073464</td>\n",
       "      <td>-3.308182</td>\n",
       "      <td>-0.476041</td>\n",
       "    </tr>\n",
       "  </tbody>\n",
       "</table>\n",
       "<p>4500000 rows × 9 columns</p>\n",
       "</div>"
      ],
      "text/plain": [
       "         VEHICLE_ID  VEHICLE_CLASS  LONGITUDE  LATITUDE   HEADING     SPEED  \\\n",
       "0         -1.590894       0.175411   0.018140 -0.105334  1.355284 -0.810118   \n",
       "1         -1.590894       0.175411   0.018140 -0.105334  1.355284 -0.810118   \n",
       "2         -1.590894       0.175411   0.018140 -0.105335  1.355284 -0.810118   \n",
       "3         -1.590894       0.175411   0.018140 -0.105335  1.355284 -0.810118   \n",
       "4         -1.590894       0.175411   0.018140 -0.105335  1.355284 -0.810118   \n",
       "...             ...            ...        ...       ...       ...       ...   \n",
       "4499995    2.064391       0.175411   0.042592 -0.028860 -1.337414  0.771787   \n",
       "4499996    2.064391       0.175411   0.042610 -0.028720 -1.337414  0.414582   \n",
       "4499997    2.064391       0.175411   0.042624 -0.028602 -1.337414  0.261495   \n",
       "4499998    2.064391       0.175411   0.042635 -0.028516 -1.337414 -0.146739   \n",
       "4499999    2.064391       0.175411   0.042641 -0.028464 -1.337414 -0.503943   \n",
       "\n",
       "         BRAKE_STATUS   ACC_SEC  VEHICLE_TYPE  \n",
       "0            1.124432 -0.003161     -0.476041  \n",
       "1            1.124432 -0.003161     -0.476041  \n",
       "2            1.124432 -0.003161     -0.476041  \n",
       "3            1.124432 -0.003161     -0.476041  \n",
       "4            1.124432 -0.003161     -0.476041  \n",
       "...               ...       ...           ...  \n",
       "4499995      1.073464 -1.645776     -0.476041  \n",
       "4499996      1.073464 -2.754047     -0.476041  \n",
       "4499997      1.073464 -2.199911     -0.476041  \n",
       "4499998      1.073464 -4.396662     -0.476041  \n",
       "4499999      1.073464 -3.308182     -0.476041  \n",
       "\n",
       "[4500000 rows x 9 columns]"
      ]
     },
     "execution_count": 15,
     "metadata": {},
     "output_type": "execute_result"
    }
   ],
   "source": [
    "# standardize\n",
    "from sklearn.preprocessing import StandardScaler\n",
    "\n",
    "scaler = StandardScaler()\n",
    "df11csv_scaled = scaler.fit_transform(df11csv)\n",
    "df11csv_scaled = pd.DataFrame(df11csv_scaled, columns=df11csv.columns)\n",
    "df11csv_scaled"
   ]
  },
  {
   "attachments": {},
   "cell_type": "markdown",
   "metadata": {},
   "source": [
    "# CSV 파일 Dataframe pickle로 저장"
   ]
  },
  {
   "cell_type": "code",
   "execution_count": 16,
   "metadata": {},
   "outputs": [],
   "source": [
    "with open(\"pickles/11월/df11_scaled.pkl\", \"wb\") as f:\n",
    "    pkl.dump(df11csv_scaled, f)"
   ]
  },
  {
   "cell_type": "code",
   "execution_count": 17,
   "metadata": {},
   "outputs": [],
   "source": [
    "df11csv_scaled = pd.read_pickle(\"pickles/11월/df11_scaled.pkl\") # load pickle"
   ]
  },
  {
   "cell_type": "code",
   "execution_count": 18,
   "metadata": {},
   "outputs": [],
   "source": [
    "# reshape 1350000 rows × 9 columns to 1350000 rows x 9 columns x 10, and changed to numpy array\n",
    "df11csv_scaled_npy = df11csv_scaled.values.reshape(df11csv_scaled.shape[0]//10, 10, 9)\n",
    "df11csv_scaled_npy = df11csv_scaled_npy.transpose(0, 2, 1)"
   ]
  },
  {
   "cell_type": "code",
   "execution_count": 19,
   "metadata": {},
   "outputs": [],
   "source": [
    "# save numpy array as npy file\n",
    "np.save(\"pickles/11월/X_11.npy\", df11csv_scaled_npy)"
   ]
  },
  {
   "cell_type": "code",
   "execution_count": 20,
   "metadata": {},
   "outputs": [
    {
     "name": "stdout",
     "output_type": "stream",
     "text": [
      "(450000, 9, 10)\n"
     ]
    },
    {
     "data": {
      "text/plain": [
       "array([[[-1.59089447, -1.59089447, -1.59089447, -1.59089447,\n",
       "         -1.59089447, -1.59089447, -1.59089447, -1.59089447,\n",
       "         -1.59089447, -1.59089447],\n",
       "        [ 0.1754109 ,  0.1754109 ,  0.1754109 ,  0.1754109 ,\n",
       "          0.1754109 ,  0.1754109 ,  0.1754109 ,  0.1754109 ,\n",
       "          0.1754109 ,  0.1754109 ],\n",
       "        [ 0.01814007,  0.01814007,  0.01814001,  0.01814001,\n",
       "          0.01814001,  0.0181399 ,  0.0181399 ,  0.0181399 ,\n",
       "          0.01813978,  0.01813978],\n",
       "        [-0.10533418, -0.10533439, -0.10533481, -0.10533481,\n",
       "         -0.10533523, -0.10533523, -0.10533545, -0.10533587,\n",
       "         -0.10533587, -0.10533629],\n",
       "        [ 1.35528426,  1.35528426,  1.35528426,  1.35528426,\n",
       "          1.35528426,  1.35528426,  1.35528426,  1.35528426,\n",
       "          1.35528426,  1.35528426],\n",
       "        [-0.81011827, -0.81011827, -0.81011827, -0.81011827,\n",
       "         -0.81011827, -0.81011827, -0.81011827, -0.81011827,\n",
       "         -0.81011827, -0.81011827],\n",
       "        [ 1.12443212,  1.12443212,  1.12443212,  1.12443212,\n",
       "          1.12443212,  1.12443212,  1.12443212,  1.12443212,\n",
       "          1.12443212,  1.12443212],\n",
       "        [-0.00316122, -0.00316122, -0.00316122, -0.00316122,\n",
       "         -0.00316122, -0.00316122, -0.00316122, -0.00316122,\n",
       "         -0.00316122, -0.00316122],\n",
       "        [-0.47604126, -0.47604126, -0.47604126, -0.47604126,\n",
       "         -0.47604126, -0.47604126, -0.47604126, -0.47604126,\n",
       "         -0.47604126, -0.47604126]],\n",
       "\n",
       "       [[-1.59089447, -1.59089447, -1.59089447, -1.59089447,\n",
       "         -1.59089447, -1.59089447, -1.59089447, -1.59089447,\n",
       "         -1.59089447, -1.59089447],\n",
       "        [ 0.1754109 ,  0.1754109 ,  0.1754109 ,  0.1754109 ,\n",
       "          0.1754109 ,  0.1754109 ,  0.1754109 ,  0.1754109 ,\n",
       "          0.1754109 ,  0.1754109 ],\n",
       "        [ 0.01632159,  0.01629698,  0.01627632,  0.01625997,\n",
       "          0.01624841,  0.0162418 ,  0.01623985,  0.01623973,\n",
       "          0.01623961,  0.01623943],\n",
       "        [-0.09870869, -0.0985957 , -0.09849923, -0.09842517,\n",
       "         -0.09837355, -0.09834499, -0.09833758, -0.09833758,\n",
       "         -0.09833758, -0.09833801],\n",
       "        [ 1.45568997,  1.46481776,  1.46481776,  1.46481776,\n",
       "          1.44656218,  1.46481776,  1.46481776,  1.46481776,\n",
       "          1.46481776,  1.46481776],\n",
       "        [ 0.46561141,  0.31252385,  0.15943628, -0.14673884,\n",
       "         -0.35085559, -0.65703071, -0.81011827, -0.81011827,\n",
       "         -0.81011827, -0.81011827],\n",
       "        [ 1.12443212,  1.12443212,  1.12443212,  1.12443212,\n",
       "          1.12443212,  1.12443212,  1.12443212,  1.12443212,\n",
       "          1.12443212,  1.12443212],\n",
       "        [-1.64577621, -1.64577621, -1.64577621, -2.75404656,\n",
       "         -2.19991139, -2.75404656, -1.64577621, -0.00316122,\n",
       "         -0.00316122, -0.00316122],\n",
       "        [-0.47604126, -0.47604126, -0.47604126, -0.47604126,\n",
       "         -0.47604126, -0.47604126, -0.47604126, -0.47604126,\n",
       "         -0.47604126, -0.47604126]]])"
      ]
     },
     "execution_count": 20,
     "metadata": {},
     "output_type": "execute_result"
    }
   ],
   "source": [
    "print(df11csv_scaled_npy.shape)\n",
    "df11csv_scaled_npy[:2]"
   ]
  },
  {
   "attachments": {},
   "cell_type": "markdown",
   "metadata": {},
   "source": [
    "----------------------"
   ]
  },
  {
   "attachments": {},
   "cell_type": "markdown",
   "metadata": {},
   "source": [
    "# JSON"
   ]
  },
  {
   "cell_type": "code",
   "execution_count": 3,
   "metadata": {},
   "outputs": [],
   "source": [
    "with open(\"pickles/11월/JSON11.pkl\", \"rb\") as f:\n",
    "    json_files11 = pkl.load(f)"
   ]
  },
  {
   "cell_type": "code",
   "execution_count": 4,
   "metadata": {},
   "outputs": [
    {
     "data": {
      "text/plain": [
       "{'Path': 'V_221101_C_A_FFE809A7_000349.csv',\n",
       " 'Annotation': {'Vehicle_ID': 'FFE809A7',\n",
       "  'Turn': 'False',\n",
       "  'Lane': 'False',\n",
       "  'Speed': 'False',\n",
       "  'Hazard': 'False'}}"
      ]
     },
     "execution_count": 4,
     "metadata": {},
     "output_type": "execute_result"
    }
   ],
   "source": [
    "# json info\n",
    "with open(json_files11[0], \"r\") as f:\n",
    "    json_sample = json.load(f)\n",
    "json_sample"
   ]
  },
  {
   "cell_type": "code",
   "execution_count": 59,
   "metadata": {},
   "outputs": [
    {
     "data": {
      "text/html": [
       "<div>\n",
       "<style scoped>\n",
       "    .dataframe tbody tr th:only-of-type {\n",
       "        vertical-align: middle;\n",
       "    }\n",
       "\n",
       "    .dataframe tbody tr th {\n",
       "        vertical-align: top;\n",
       "    }\n",
       "\n",
       "    .dataframe thead th {\n",
       "        text-align: right;\n",
       "    }\n",
       "</style>\n",
       "<table border=\"1\" class=\"dataframe\">\n",
       "  <thead>\n",
       "    <tr style=\"text-align: right;\">\n",
       "      <th></th>\n",
       "      <th>Path</th>\n",
       "      <th>Annotation</th>\n",
       "    </tr>\n",
       "  </thead>\n",
       "  <tbody>\n",
       "    <tr>\n",
       "      <th>Hazard</th>\n",
       "      <td>V_220801_C_A_FFE809B4_000075.csv</td>\n",
       "      <td>False</td>\n",
       "    </tr>\n",
       "    <tr>\n",
       "      <th>Lane</th>\n",
       "      <td>V_220801_C_A_FFE809B4_000075.csv</td>\n",
       "      <td>False</td>\n",
       "    </tr>\n",
       "    <tr>\n",
       "      <th>Speed</th>\n",
       "      <td>V_220801_C_A_FFE809B4_000075.csv</td>\n",
       "      <td>False</td>\n",
       "    </tr>\n",
       "    <tr>\n",
       "      <th>Turn</th>\n",
       "      <td>V_220801_C_A_FFE809B4_000075.csv</td>\n",
       "      <td>False</td>\n",
       "    </tr>\n",
       "    <tr>\n",
       "      <th>Vehicle_ID</th>\n",
       "      <td>V_220801_C_A_FFE809B4_000075.csv</td>\n",
       "      <td>FFE809B4</td>\n",
       "    </tr>\n",
       "  </tbody>\n",
       "</table>\n",
       "</div>"
      ],
      "text/plain": [
       "                                        Path Annotation\n",
       "Hazard      V_220801_C_A_FFE809B4_000075.csv      False\n",
       "Lane        V_220801_C_A_FFE809B4_000075.csv      False\n",
       "Speed       V_220801_C_A_FFE809B4_000075.csv      False\n",
       "Turn        V_220801_C_A_FFE809B4_000075.csv      False\n",
       "Vehicle_ID  V_220801_C_A_FFE809B4_000075.csv   FFE809B4"
      ]
     },
     "execution_count": 59,
     "metadata": {},
     "output_type": "execute_result"
    }
   ],
   "source": [
    "df11_json = pd.read_json(json_files11[0])\n",
    "# df8_json = df8_json['Annotation'][['Turn', 'Lane', 'Speed', 'Hazard']].to_frame().T\n",
    "# values = df8_json.values.tolist()[0]\n",
    "# values\n",
    "df11_json"
   ]
  },
  {
   "cell_type": "code",
   "execution_count": 5,
   "metadata": {},
   "outputs": [
    {
     "name": "stdout",
     "output_type": "stream",
     "text": [
      "['Turn', 'Lane', 'Speed', 'Hazard']\n"
     ]
    },
    {
     "name": "stderr",
     "output_type": "stream",
     "text": [
      "100%|██████████| 450000/450000 [11:08<00:00, 672.93it/s]\n"
     ]
    }
   ],
   "source": [
    "json11_list = []\n",
    "cols = ['Turn', 'Lane', 'Speed', 'Hazard']\n",
    "print(cols)\n",
    "\n",
    "df8json = pd.DataFrame(columns=cols)\n",
    "for i in trange(len(json_files11)):\n",
    "    with open(json_files11[i], \"r\") as f:\n",
    "        try:\n",
    "            temp_json = json.load(f)\n",
    "            temp_json = [temp_json['Annotation'][key] for key in temp_json['Annotation'].keys() if key in cols]\n",
    "            json11_list.append(temp_json)\n",
    "        \n",
    "        except Exception as e:\n",
    "            print(f\"{json_files11[i]} error: {e}\")\n",
    "            continue\n",
    "        \n",
    "# json8_list = [x[:4] for x in json8_list]\n",
    "json11_npy = np.array(json11_list)\n",
    "np.save(\"pickles/11월/y_11.npy\", json11_npy)\n"
   ]
  },
  {
   "cell_type": "code",
   "execution_count": 6,
   "metadata": {},
   "outputs": [
    {
     "data": {
      "text/plain": [
       "(450000, 4)"
      ]
     },
     "execution_count": 6,
     "metadata": {},
     "output_type": "execute_result"
    }
   ],
   "source": [
    "json11_npy = np.load(\"pickles/11월/y_11.npy\")\n",
    "json11_npy.shape"
   ]
  },
  {
   "cell_type": "code",
   "execution_count": 7,
   "metadata": {},
   "outputs": [
    {
     "data": {
      "text/plain": [
       "array([['False', 'False', 'False', 'False'],\n",
       "       ['False', 'False', 'False', 'False'],\n",
       "       ['False', 'False', 'False', 'False'],\n",
       "       ...,\n",
       "       ['False', 'False', 'False', 'False'],\n",
       "       ['False', 'False', 'False', 'False'],\n",
       "       ['False', 'False', 'False', 'False']], dtype='<U7')"
      ]
     },
     "execution_count": 7,
     "metadata": {},
     "output_type": "execute_result"
    }
   ],
   "source": [
    "json11_npy"
   ]
  },
  {
   "attachments": {},
   "cell_type": "markdown",
   "metadata": {},
   "source": [
    "# Time series classification"
   ]
  },
  {
   "cell_type": "code",
   "execution_count": 5,
   "metadata": {},
   "outputs": [
    {
     "name": "stdout",
     "output_type": "stream",
     "text": [
      "turn: ['Fals' 'Left' 'Reve' 'Righ']\n",
      "lane: ['Fals']\n",
      "speed: ['Acc' 'Fals' 'Hbrk']\n",
      "hazard: ['Fals' 'True']\n",
      "turn: Counter({'Fals': 1274127, 'Righ': 38008, 'Left': 35376, 'Reve': 2489})\n",
      "lane: Counter({'Fals': 1350000})\n",
      "speed: Counter({'Fals': 1348923, 'Hbrk': 796, 'Acc': 281})\n",
      "hazard: Counter({'Fals': 1345730, 'True': 4270})\n"
     ]
    }
   ],
   "source": [
    "X = np.load(\"pickles/11월/X_11.npy\")\n",
    "y = np.load(\"pickles/11월/y_11.npy\")\n",
    "\n",
    "###\n",
    "from collections import Counter\n",
    "print(\"turn:\", np.unique(y[:, 0]))\n",
    "print(\"lane:\", np.unique(y[:, 1]))\n",
    "print(\"speed:\", np.unique(y[:, 2]))\n",
    "print(\"hazard:\", np.unique(y[:, 3]))\n",
    "print(\"turn:\", Counter(y[:, 0]))\n",
    "print(\"lane:\", Counter(y[:, 1]))\n",
    "print(\"speed:\", Counter(y[:, 2]))\n",
    "print(\"hazard:\", Counter(y[:, 3]))"
   ]
  },
  {
   "cell_type": "code",
   "execution_count": 12,
   "metadata": {},
   "outputs": [
    {
     "data": {
      "text/plain": [
       "array(['Fals', 'Fals', 'Fals', ..., 'Fals', 'Fals', 'Fals'], dtype='<U4')"
      ]
     },
     "execution_count": 12,
     "metadata": {},
     "output_type": "execute_result"
    }
   ],
   "source": [
    "get_splits()"
   ]
  },
  {
   "cell_type": "code",
   "execution_count": 13,
   "metadata": {},
   "outputs": [
    {
     "data": {
      "image/png": "[encoded data removed]",
      "text/plain": [
       "<Figure size 1600x50 with 1 Axes>"
      ]
     },
     "metadata": {},
     "output_type": "display_data"
    }
   ],
   "source": [
    "from tsai.all import *\n",
    "config = AttrDict(\n",
    "    batch_tfms = TSStandardize(by_sample=True),\n",
    "    arch_config = {},\n",
    "    architecture = LSTM, # LSTM, MLSTM_Plus\n",
    "    lr = 1e-3,\n",
    "    n_epochs = 200,\n",
    ")\n",
    "\n",
    "X = np.load(\"pickles/11월/X_11.npy\")\n",
    "y = np.load(\"pickles/11월/y_11.npy\")\n",
    "split_all = get_splits(y[:,0], shuffle=True, valid_size=0.2, test_size=0.2, random_state=42)\n",
    "split = split_all"
   ]
  },
  {
   "cell_type": "code",
   "execution_count": 14,
   "metadata": {},
   "outputs": [],
   "source": [
    "test_eq(X.shape, (X.shape[0], 9, 10))\n",
    "test_eq(y.shape, (X.shape[0], 4))"
   ]
  },
  {
   "cell_type": "code",
   "execution_count": 15,
   "metadata": {},
   "outputs": [],
   "source": [
    "tfms = [None, [MultiCategorize, OneHotEncode]]\n",
    "dsets = TSDatasets(X, y, tfms=tfms, splits=split)\n",
    "dls = TSDataLoaders.from_dsets(dsets.train, dsets.valid, bs=[64, 128], shuffle_train=False, batch_tfms=[TSStandardize()])\n",
    "\n",
    "model = InceptionTime(dls.vars, dls.c)\n",
    "learn = Learner(dls, model, loss_func=BCEWithLogitsLossFlat(), metrics=[accuracy_multi, precision_multi, F1_multi])\n",
    "learn.fit_one_cycle(10)\n",
    "learn.recorder.plot_loss()"
   ]
  },
  {
   "attachments": {},
   "cell_type": "markdown",
   "metadata": {},
   "source": [
    "-------------------"
   ]
  }
 ],
 "metadata": {
  "kernelspec": {
   "display_name": "pius310",
   "language": "python",
   "name": "python3"
  },
  "language_info": {
   "codemirror_mode": {
    "name": "ipython",
    "version": 3
   },
   "file_extension": ".py",
   "mimetype": "text/x-python",
   "name": "python",
   "nbconvert_exporter": "python",
   "pygments_lexer": "ipython3",
   "version": "3.10.9"
  },
  "orig_nbformat": 4,
  "vscode": {
   "interpreter": {
    "hash": "48ca3073c5549c1ccf4f4a58b2740315d5bce04ee37289cb933f5ff9b483ac6d"
   }
  }
 },
 "nbformat": 4,
 "nbformat_minor": 2
}
