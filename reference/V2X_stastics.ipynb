{
 "cells": [
  {
   "cell_type": "code",
   "execution_count": 28,
   "metadata": {},
   "outputs": [],
   "source": [
    "import numpy as np\n",
    "import pickle as pkl\n",
    "import json\n",
    "import glob\n",
    "import shutil\n",
    "import pandas as pd\n",
    "from glob import glob\n",
    "from fastbook import *\n",
    "from collections import Counter\n",
    "\n",
    "data_path_8 = \"./pickles/8월\"\n",
    "data_path_9 = \"./pickles/9월\"\n",
    "data_path_10 = \"./pickles/10월\"\n",
    "data_path_11 = \"./pickles/11월\"\n",
    "data_path_8s = \"./pickles/8월s\""
   ]
  },
  {
   "cell_type": "code",
   "execution_count": 29,
   "metadata": {},
   "outputs": [],
   "source": [
    "with open(data_path_8+\"/CSV8.pkl\", 'rb') as f:\n",
    "    data_8_csv = pkl.load(f)\n",
    "with open(data_path_9+\"/CSV9.pkl\", 'rb') as f:\n",
    "    data_9_csv = pkl.load(f)\n",
    "with open(data_path_10+\"/CSV10.pkl\", 'rb') as f:\n",
    "    data_10_csv = pkl.load(f)\n",
    "with open(data_path_11+\"/CSV11.pkl\", 'rb') as f:\n",
    "    data_11_csv = pkl.load(f)\n",
    "with open(data_path_8s+\"/CSV8s.pkl\", 'rb') as f:\n",
    "    data_8s_csv = pkl.load(f)\n",
    "with open(data_path_8+\"/JSON8.pkl\", 'rb') as f:\n",
    "    data_8_json = pkl.load(f)\n",
    "with open(data_path_9+\"/JSON9.pkl\", 'rb') as f:\n",
    "    data_9_json = pkl.load(f)\n",
    "with open(data_path_10+\"/JSON10.pkl\", 'rb') as f:\n",
    "    data_10_json = pkl.load(f)\n",
    "with open(data_path_11+\"/JSON11.pkl\", 'rb') as f:\n",
    "    data_11_json = pkl.load(f)\n",
    "with open(data_path_8s+\"/JSON8s.pkl\", 'rb') as f:\n",
    "    data_8s_json = pkl.load(f)"
   ]
  },
  {
   "cell_type": "code",
   "execution_count": 30,
   "metadata": {},
   "outputs": [],
   "source": [
    "x8 = np.load(data_path_8 + \"/X_8.npy\")\n",
    "y8 = np.load(data_path_8 + \"/y_8.npy\")\n",
    "x9 = np.load(data_path_9 + \"/X_9.npy\")\n",
    "y9 = np.load(data_path_9 + \"/y_9.npy\")\n",
    "x10 = np.load(data_path_10 + \"/X_10.npy\")\n",
    "y10 = np.load(data_path_10 + \"/y_10.npy\")\n",
    "x11 = np.load(data_path_11 + \"/X_11.npy\")\n",
    "y11 = np.load(data_path_11 + \"/y_11.npy\")\n",
    "x8s = np.load(data_path_8s + \"/X_8s.npy\")\n",
    "y8s = np.load(data_path_8s + \"/y_8s.npy\")\n",
    "\n",
    "x = np.concatenate((x8,x9,x10,x11))\n",
    "y = np.concatenate((y8,y9,y10,y11))\n",
    "y_all = np.concatenate((y8,y9,y10,y11,y8s))"
   ]
  },
  {
   "cell_type": "code",
   "execution_count": 31,
   "metadata": {},
   "outputs": [
    {
     "name": "stdout",
     "output_type": "stream",
     "text": [
      "8월:  (930000, 9, 10) (930000, 4)\n",
      "9월:  (1350000, 9, 10) (1350000, 4)\n",
      "10월:  (1350000, 9, 10) (1350000, 4)\n",
      "11월:  (450000, 9, 10) (450000, 4)\n",
      "통합:  (4080000, 9, 10) (4080000, 4)\n",
      "8월 turn:  Counter({'False': 876495, 'Right': 26666, 'Left': 25099, 'Reverse': 1740})\n",
      "8월 lane:  Counter({'False': 930000})\n",
      "8월 speed:  Counter({'False': 929248, 'Hbrk': 553, 'Acc': 199})\n",
      "8월 hazard:  Counter({'False': 926813, 'True': 3187})\n",
      "9월 turn:  Counter({'False': 1274127, 'Right': 38008, 'Left': 35376, 'Reverse': 2489})\n",
      "9월 lane:  Counter({'False': 1350000})\n",
      "9월 speed:  Counter({'False': 1348923, 'Hbrk': 796, 'Acc': 281})\n",
      "9월 hazard:  Counter({'False': 1345730, 'True': 4270})\n",
      "10월 turn:  Counter({'False': 1273760, 'Right': 38146, 'Left': 35737, 'Reverse': 2357})\n",
      "10월 lane:  Counter({'False': 1350000})\n",
      "10월 speed:  Counter({'False': 1348931, 'Hbrk': 800, 'Acc': 269})\n",
      "10월 hazard:  Counter({'False': 1345491, 'True': 4509})\n",
      "11월 turn:  Counter({'False': 425294, 'Right': 12424, 'Left': 11491, 'Reverse': 791})\n",
      "11월 lane:  Counter({'False': 450000})\n",
      "11월 speed:  Counter({'False': 449574, 'Hbrk': 300, 'Acc': 126})\n",
      "11월 hazard:  Counter({'False': 448377, 'True': 1623})\n",
      "8월s turn:  Counter({'False': 530427, 'Reverse': 11902, 'Right': 8288, 'Left': 6601})\n",
      "8월s lane:  Counter({'False': 557218})\n",
      "8월s speed:  Counter({'False': 507399, 'Hbrk': 25337, 'Acc': 24482})\n",
      "8월s hazard:  Counter({'False': 557218})\n",
      "통합 turn:  Counter({'False': 4380103, 'Right': 123532, 'Left': 114304, 'Reverse': 19279})\n",
      "통합 lane:  Counter({'False': 4637218})\n",
      "통합 speed:  Counter({'False': 4584075, 'Hbrk': 27786, 'Acc': 25357})\n",
      "통합 hazard:  Counter({'False': 4623629, 'True': 13589})\n"
     ]
    }
   ],
   "source": [
    "print(\"8월: \", x8.shape, y8.shape)\n",
    "print(\"9월: \", x9.shape, y9.shape)\n",
    "print(\"10월: \", x10.shape, y10.shape)\n",
    "print(\"11월: \", x11.shape, y11.shape)\n",
    "print(\"통합: \", x.shape, y.shape)\n",
    "\n",
    "print(\"8월 turn: \", Counter(y8[:,0]))\n",
    "print(\"8월 lane: \", Counter(y8[:,1]))\n",
    "print(\"8월 speed: \", Counter(y8[:,2]))\n",
    "print(\"8월 hazard: \", Counter(y8[:,3]))\n",
    "print(\"9월 turn: \", Counter(y9[:,0]))\n",
    "print(\"9월 lane: \", Counter(y9[:,1]))\n",
    "print(\"9월 speed: \", Counter(y9[:,2]))\n",
    "print(\"9월 hazard: \", Counter(y9[:,3]))\n",
    "print(\"10월 turn: \", Counter(y10[:,0]))\n",
    "print(\"10월 lane: \", Counter(y10[:,1]))\n",
    "print(\"10월 speed: \", Counter(y10[:,2]))\n",
    "print(\"10월 hazard: \", Counter(y10[:,3]))\n",
    "print(\"11월 turn: \", Counter(y11[:,0]))\n",
    "print(\"11월 lane: \", Counter(y11[:,1]))\n",
    "print(\"11월 speed: \", Counter(y11[:,2]))\n",
    "print(\"11월 hazard: \", Counter(y11[:,3]))\n",
    "print(\"8월s turn: \", Counter(y8s[:,0]))\n",
    "print(\"8월s lane: \", Counter(y8s[:,1]))\n",
    "print(\"8월s speed: \", Counter(y8s[:,2]))\n",
    "print(\"8월s hazard: \", Counter(y8s[:,3]))\n",
    "print(\"통합 turn: \", Counter(y_all[:,0]))\n",
    "print(\"통합 lane: \", Counter(y_all[:,1]))\n",
    "print(\"통합 speed: \", Counter(y_all[:,2]))\n",
    "print(\"통합 hazard: \", Counter(y_all[:,3]))"
   ]
  }
 ],
 "metadata": {
  "kernelspec": {
   "display_name": "pius310",
   "language": "python",
   "name": "python3"
  },
  "language_info": {
   "codemirror_mode": {
    "name": "ipython",
    "version": 3
   },
   "file_extension": ".py",
   "mimetype": "text/x-python",
   "name": "python",
   "nbconvert_exporter": "python",
   "pygments_lexer": "ipython3",
   "version": "3.10.9"
  },
  "orig_nbformat": 4,
  "vscode": {
   "interpreter": {
    "hash": "48ca3073c5549c1ccf4f4a58b2740315d5bce04ee37289cb933f5ff9b483ac6d"
   }
  }
 },
 "nbformat": 4,
 "nbformat_minor": 2
}
